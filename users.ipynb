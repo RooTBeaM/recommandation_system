{
 "cells": [
  {
   "cell_type": "code",
   "execution_count": 1,
   "metadata": {},
   "outputs": [],
   "source": [
    "import pandas as pd\n",
    "import matplotlib.pyplot as plt\n",
    "import seaborn as sns"
   ]
  },
  {
   "cell_type": "code",
   "execution_count": 2,
   "metadata": {},
   "outputs": [
    {
     "name": "stdout",
     "output_type": "stream",
     "text": [
      "Total rows : 2805\n"
     ]
    },
    {
     "data": {
      "text/html": [
       "<div>\n",
       "<style scoped>\n",
       "    .dataframe tbody tr th:only-of-type {\n",
       "        vertical-align: middle;\n",
       "    }\n",
       "\n",
       "    .dataframe tbody tr th {\n",
       "        vertical-align: top;\n",
       "    }\n",
       "\n",
       "    .dataframe thead th {\n",
       "        text-align: right;\n",
       "    }\n",
       "</style>\n",
       "<table border=\"1\" class=\"dataframe\">\n",
       "  <thead>\n",
       "    <tr style=\"text-align: right;\">\n",
       "      <th></th>\n",
       "      <th>id</th>\n",
       "      <th>level_id</th>\n",
       "      <th>ip_address</th>\n",
       "      <th>username</th>\n",
       "      <th>password</th>\n",
       "      <th>salt</th>\n",
       "      <th>email</th>\n",
       "      <th>activation_code</th>\n",
       "      <th>forgotten_password_code</th>\n",
       "      <th>forgotten_password_time</th>\n",
       "      <th>...</th>\n",
       "      <th>licence_file</th>\n",
       "      <th>insurance_company_no</th>\n",
       "      <th>birthdate</th>\n",
       "      <th>avatar</th>\n",
       "      <th>nationality</th>\n",
       "      <th>accept_terms</th>\n",
       "      <th>subscribe</th>\n",
       "      <th>browser</th>\n",
       "      <th>platform</th>\n",
       "      <th>version</th>\n",
       "    </tr>\n",
       "  </thead>\n",
       "  <tbody>\n",
       "    <tr>\n",
       "      <th>932</th>\n",
       "      <td>953</td>\n",
       "      <td>NaN</td>\n",
       "      <td>223.186.135.178</td>\n",
       "      <td>K.lakshmipriya@gmail.com</td>\n",
       "      <td>$2y$08$b8YlGm918orvvSsfQJlEHuQeaaDJ0AnzuztySD3...</td>\n",
       "      <td>BxpY3PWX.aLCJG/2o70F8u</td>\n",
       "      <td>K.lakshmipriya@gmail.com</td>\n",
       "      <td>NaN</td>\n",
       "      <td>NaN</td>\n",
       "      <td>NaN</td>\n",
       "      <td>...</td>\n",
       "      <td>NaN</td>\n",
       "      <td>NaN</td>\n",
       "      <td>NaN</td>\n",
       "      <td>NaN</td>\n",
       "      <td>NaN</td>\n",
       "      <td>0</td>\n",
       "      <td>0</td>\n",
       "      <td>Chrome</td>\n",
       "      <td>Android</td>\n",
       "      <td>74.0.3729.157</td>\n",
       "    </tr>\n",
       "    <tr>\n",
       "      <th>1167</th>\n",
       "      <td>1188</td>\n",
       "      <td>NaN</td>\n",
       "      <td>223.27.235.8</td>\n",
       "      <td>Sumitsinghssm9651@gmail.com</td>\n",
       "      <td>$2y$08$lru8BTgUE1MQzr9uP4tXh.Pk/33VQfvDqAWXDRY...</td>\n",
       "      <td>13RV9PA5OoDFSJ9aHOcqyO</td>\n",
       "      <td>Sumitsinghssm9651@gmail.com</td>\n",
       "      <td>NaN</td>\n",
       "      <td>NaN</td>\n",
       "      <td>NaN</td>\n",
       "      <td>...</td>\n",
       "      <td>NaN</td>\n",
       "      <td>NaN</td>\n",
       "      <td>NaN</td>\n",
       "      <td>NaN</td>\n",
       "      <td>NaN</td>\n",
       "      <td>0</td>\n",
       "      <td>0</td>\n",
       "      <td>Safari</td>\n",
       "      <td>iPhone</td>\n",
       "      <td>12.1.1</td>\n",
       "    </tr>\n",
       "    <tr>\n",
       "      <th>770</th>\n",
       "      <td>791</td>\n",
       "      <td>NaN</td>\n",
       "      <td>171.102.48.11</td>\n",
       "      <td>Ahmak23@hotmail.com</td>\n",
       "      <td>$2y$08$q0AquRRTSPP0Ss9gCz2z2.Ojw30t37Rkq7kcc2A...</td>\n",
       "      <td>IMas44.YiLar4CjtXJheeO</td>\n",
       "      <td>Ahmak23@hotmail.com</td>\n",
       "      <td>NaN</td>\n",
       "      <td>NaN</td>\n",
       "      <td>NaN</td>\n",
       "      <td>...</td>\n",
       "      <td>NaN</td>\n",
       "      <td>NaN</td>\n",
       "      <td>NaN</td>\n",
       "      <td>NaN</td>\n",
       "      <td>NaN</td>\n",
       "      <td>0</td>\n",
       "      <td>0</td>\n",
       "      <td>Safari</td>\n",
       "      <td>iPhone</td>\n",
       "      <td>12.1</td>\n",
       "    </tr>\n",
       "  </tbody>\n",
       "</table>\n",
       "<p>3 rows × 44 columns</p>\n",
       "</div>"
      ],
      "text/plain": [
       "        id  level_id       ip_address                     username  \\\n",
       "932    953       NaN  223.186.135.178     K.lakshmipriya@gmail.com   \n",
       "1167  1188       NaN     223.27.235.8  Sumitsinghssm9651@gmail.com   \n",
       "770    791       NaN    171.102.48.11          Ahmak23@hotmail.com   \n",
       "\n",
       "                                               password  \\\n",
       "932   $2y$08$b8YlGm918orvvSsfQJlEHuQeaaDJ0AnzuztySD3...   \n",
       "1167  $2y$08$lru8BTgUE1MQzr9uP4tXh.Pk/33VQfvDqAWXDRY...   \n",
       "770   $2y$08$q0AquRRTSPP0Ss9gCz2z2.Ojw30t37Rkq7kcc2A...   \n",
       "\n",
       "                        salt                        email activation_code  \\\n",
       "932   BxpY3PWX.aLCJG/2o70F8u     K.lakshmipriya@gmail.com             NaN   \n",
       "1167  13RV9PA5OoDFSJ9aHOcqyO  Sumitsinghssm9651@gmail.com             NaN   \n",
       "770   IMas44.YiLar4CjtXJheeO          Ahmak23@hotmail.com             NaN   \n",
       "\n",
       "     forgotten_password_code  forgotten_password_time  ... licence_file  \\\n",
       "932                      NaN                      NaN  ...          NaN   \n",
       "1167                     NaN                      NaN  ...          NaN   \n",
       "770                      NaN                      NaN  ...          NaN   \n",
       "\n",
       "      insurance_company_no  birthdate  avatar  nationality  accept_terms  \\\n",
       "932                    NaN        NaN     NaN          NaN             0   \n",
       "1167                   NaN        NaN     NaN          NaN             0   \n",
       "770                    NaN        NaN     NaN          NaN             0   \n",
       "\n",
       "     subscribe browser platform        version  \n",
       "932          0  Chrome  Android  74.0.3729.157  \n",
       "1167         0  Safari   iPhone         12.1.1  \n",
       "770          0  Safari   iPhone           12.1  \n",
       "\n",
       "[3 rows x 44 columns]"
      ]
     },
     "execution_count": 2,
     "metadata": {},
     "output_type": "execute_result"
    }
   ],
   "source": [
    "df_user = pd.read_csv('./csv/dtt_users.csv')\n",
    "print(f'Total rows : {len(df_user)}')\n",
    "df_user.sample(3)"
   ]
  },
  {
   "cell_type": "code",
   "execution_count": 4,
   "metadata": {},
   "outputs": [
    {
     "data": {
      "text/plain": [
       "Index(['id', 'level_id', 'ip_address', 'username', 'password', 'salt', 'email',\n",
       "       'activation_code', 'forgotten_password_code', 'forgotten_password_time',\n",
       "       'remember_code', 'created_on', 'last_login', 'active', 'social_id',\n",
       "       'provider', 'first_name', 'last_name', 'phone_iso', 'phone_code',\n",
       "       'phone', 'name_title', 'gender', 'address', 'subdistrict', 'district',\n",
       "       'province', 'postal_code', 'country', 'company', 'occupation',\n",
       "       'position', 'business_name', 'licence_no', 'licence_file',\n",
       "       'insurance_company_no', 'birthdate', 'avatar', 'nationality',\n",
       "       'accept_terms', 'subscribe', 'browser', 'platform', 'version'],\n",
       "      dtype='object')"
      ]
     },
     "execution_count": 4,
     "metadata": {},
     "output_type": "execute_result"
    }
   ],
   "source": [
    "#selected columns\n",
    "user_cols = [\n",
    "    'id', \n",
    "    'username','email', # find test user and check matching\n",
    "    'activation_code', # check fake users?\n",
    "    'created_on', 'last_login', 'active', # active [0,1]?\n",
    "    'social_id', # what's meaning?\n",
    "    'provider', # category [1,2,9]\n",
    "    'first_name', 'last_name', 'phone_iso', 'phone_code', 'phone', 'name_title', 'gender', # need clean and fill by dtt_order\n",
    "    'address', 'subdistrict', 'district', 'province', 'postal_code', 'country', 'company', 'occupation', 'position', 'business_name', \n",
    "    'licence_no', 'licence_file','insurance_company_no', # what's licence mean?\n",
    "    'birthdate', # all NA\n",
    "    'nationality',\n",
    "    'browser', 'platform']\n",
    "\n",
    "df_user.columns"
   ]
  },
  {
   "cell_type": "code",
   "execution_count": 5,
   "metadata": {},
   "outputs": [
    {
     "data": {
      "text/plain": [
       "1.0    1973\n",
       "2.0     809\n",
       "9.0      18\n",
       "Name: provider, dtype: int64"
      ]
     },
     "execution_count": 5,
     "metadata": {},
     "output_type": "execute_result"
    }
   ],
   "source": [
    "df_user['provider'].value_counts()"
   ]
  },
  {
   "cell_type": "code",
   "execution_count": null,
   "metadata": {},
   "outputs": [],
   "source": []
  }
 ],
 "metadata": {
  "kernelspec": {
   "display_name": "gpu",
   "language": "python",
   "name": "python3"
  },
  "language_info": {
   "codemirror_mode": {
    "name": "ipython",
    "version": 3
   },
   "file_extension": ".py",
   "mimetype": "text/x-python",
   "name": "python",
   "nbconvert_exporter": "python",
   "pygments_lexer": "ipython3",
   "version": "3.9.15"
  },
  "orig_nbformat": 4
 },
 "nbformat": 4,
 "nbformat_minor": 2
}
